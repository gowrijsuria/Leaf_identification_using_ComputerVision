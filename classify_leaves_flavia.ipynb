{
 "cells": [
  {
   "cell_type": "markdown",
   "metadata": {},
   "source": [
    "# Plant Leaf Classification\n",
    "\n",
    "Applying machine learning models for classification of plant leaf images"
   ]
  },
  {
   "cell_type": "markdown",
   "metadata": {},
   "source": [
    "### Importing necessary libraries"
   ]
  },
  {
   "cell_type": "code",
   "execution_count": 97,
   "metadata": {},
   "outputs": [],
   "source": [
    "import numpy as np\n",
    "import pandas as pd\n",
    "import os\n",
    "import string"
   ]
  },
  {
   "cell_type": "markdown",
   "metadata": {},
   "source": [
    "### Reading the dataset"
   ]
  },
  {
   "cell_type": "code",
   "execution_count": 98,
   "metadata": {},
   "outputs": [],
   "source": [
    "dataset = pd.read_csv(\"Flavia_features.csv\")"
   ]
  },
  {
   "cell_type": "code",
   "execution_count": 99,
   "metadata": {},
   "outputs": [
    {
     "data": {
      "text/html": [
       "<div>\n",
       "<style scoped>\n",
       "    .dataframe tbody tr th:only-of-type {\n",
       "        vertical-align: middle;\n",
       "    }\n",
       "\n",
       "    .dataframe tbody tr th {\n",
       "        vertical-align: top;\n",
       "    }\n",
       "\n",
       "    .dataframe thead th {\n",
       "        text-align: right;\n",
       "    }\n",
       "</style>\n",
       "<table border=\"1\" class=\"dataframe\">\n",
       "  <thead>\n",
       "    <tr style=\"text-align: right;\">\n",
       "      <th></th>\n",
       "      <th>Unnamed: 0</th>\n",
       "      <th>area</th>\n",
       "      <th>perimeter</th>\n",
       "      <th>physiological_length</th>\n",
       "      <th>physiological_width</th>\n",
       "      <th>aspect_ratio</th>\n",
       "      <th>rectangularity</th>\n",
       "      <th>circularity</th>\n",
       "      <th>mean_r</th>\n",
       "      <th>mean_g</th>\n",
       "      <th>mean_b</th>\n",
       "      <th>stddev_r</th>\n",
       "      <th>stddev_g</th>\n",
       "      <th>stddev_b</th>\n",
       "      <th>contrast</th>\n",
       "      <th>correlation</th>\n",
       "      <th>inverse_difference_moments</th>\n",
       "      <th>entropy</th>\n",
       "    </tr>\n",
       "  </thead>\n",
       "  <tbody>\n",
       "    <tr>\n",
       "      <td>0</td>\n",
       "      <td>0</td>\n",
       "      <td>561342.5</td>\n",
       "      <td>3305.416635</td>\n",
       "      <td>1353</td>\n",
       "      <td>640</td>\n",
       "      <td>2.114063</td>\n",
       "      <td>1.542588</td>\n",
       "      <td>19.463659</td>\n",
       "      <td>189.181341</td>\n",
       "      <td>218.805668</td>\n",
       "      <td>179.584394</td>\n",
       "      <td>96.015825</td>\n",
       "      <td>50.316477</td>\n",
       "      <td>108.842002</td>\n",
       "      <td>58.808041</td>\n",
       "      <td>0.994066</td>\n",
       "      <td>0.727757</td>\n",
       "      <td>4.745328</td>\n",
       "    </tr>\n",
       "    <tr>\n",
       "      <td>1</td>\n",
       "      <td>0</td>\n",
       "      <td>607171.0</td>\n",
       "      <td>3988.447285</td>\n",
       "      <td>1466</td>\n",
       "      <td>1034</td>\n",
       "      <td>1.417795</td>\n",
       "      <td>2.496569</td>\n",
       "      <td>26.199723</td>\n",
       "      <td>15.476080</td>\n",
       "      <td>38.971083</td>\n",
       "      <td>9.930136</td>\n",
       "      <td>36.154020</td>\n",
       "      <td>60.875630</td>\n",
       "      <td>27.024367</td>\n",
       "      <td>29.127809</td>\n",
       "      <td>0.997869</td>\n",
       "      <td>0.725346</td>\n",
       "      <td>4.997369</td>\n",
       "    </tr>\n",
       "    <tr>\n",
       "      <td>2</td>\n",
       "      <td>0</td>\n",
       "      <td>842969.5</td>\n",
       "      <td>4278.504949</td>\n",
       "      <td>1378</td>\n",
       "      <td>843</td>\n",
       "      <td>1.634638</td>\n",
       "      <td>1.378050</td>\n",
       "      <td>21.715619</td>\n",
       "      <td>35.406194</td>\n",
       "      <td>56.211548</td>\n",
       "      <td>33.102664</td>\n",
       "      <td>45.685167</td>\n",
       "      <td>65.068653</td>\n",
       "      <td>43.953746</td>\n",
       "      <td>29.547815</td>\n",
       "      <td>0.997531</td>\n",
       "      <td>0.647207</td>\n",
       "      <td>6.183285</td>\n",
       "    </tr>\n",
       "    <tr>\n",
       "      <td>3</td>\n",
       "      <td>0</td>\n",
       "      <td>785547.0</td>\n",
       "      <td>4419.472546</td>\n",
       "      <td>1242</td>\n",
       "      <td>1068</td>\n",
       "      <td>1.162921</td>\n",
       "      <td>1.688576</td>\n",
       "      <td>24.863869</td>\n",
       "      <td>37.360262</td>\n",
       "      <td>77.987583</td>\n",
       "      <td>8.228920</td>\n",
       "      <td>48.897957</td>\n",
       "      <td>92.566737</td>\n",
       "      <td>27.841885</td>\n",
       "      <td>5.518959</td>\n",
       "      <td>0.999238</td>\n",
       "      <td>0.747937</td>\n",
       "      <td>5.233228</td>\n",
       "    </tr>\n",
       "    <tr>\n",
       "      <td>4</td>\n",
       "      <td>0</td>\n",
       "      <td>880922.5</td>\n",
       "      <td>4248.661363</td>\n",
       "      <td>1336</td>\n",
       "      <td>1007</td>\n",
       "      <td>1.326713</td>\n",
       "      <td>1.527208</td>\n",
       "      <td>20.491159</td>\n",
       "      <td>43.304093</td>\n",
       "      <td>72.965296</td>\n",
       "      <td>27.219854</td>\n",
       "      <td>53.980806</td>\n",
       "      <td>78.973875</td>\n",
       "      <td>39.895113</td>\n",
       "      <td>27.960254</td>\n",
       "      <td>0.997040</td>\n",
       "      <td>0.618811</td>\n",
       "      <td>6.441511</td>\n",
       "    </tr>\n",
       "  </tbody>\n",
       "</table>\n",
       "</div>"
      ],
      "text/plain": [
       "   Unnamed: 0      area    perimeter  physiological_length  \\\n",
       "0           0  561342.5  3305.416635                  1353   \n",
       "1           0  607171.0  3988.447285                  1466   \n",
       "2           0  842969.5  4278.504949                  1378   \n",
       "3           0  785547.0  4419.472546                  1242   \n",
       "4           0  880922.5  4248.661363                  1336   \n",
       "\n",
       "   physiological_width  aspect_ratio  rectangularity  circularity      mean_r  \\\n",
       "0                  640      2.114063        1.542588    19.463659  189.181341   \n",
       "1                 1034      1.417795        2.496569    26.199723   15.476080   \n",
       "2                  843      1.634638        1.378050    21.715619   35.406194   \n",
       "3                 1068      1.162921        1.688576    24.863869   37.360262   \n",
       "4                 1007      1.326713        1.527208    20.491159   43.304093   \n",
       "\n",
       "       mean_g      mean_b   stddev_r   stddev_g    stddev_b   contrast  \\\n",
       "0  218.805668  179.584394  96.015825  50.316477  108.842002  58.808041   \n",
       "1   38.971083    9.930136  36.154020  60.875630   27.024367  29.127809   \n",
       "2   56.211548   33.102664  45.685167  65.068653   43.953746  29.547815   \n",
       "3   77.987583    8.228920  48.897957  92.566737   27.841885   5.518959   \n",
       "4   72.965296   27.219854  53.980806  78.973875   39.895113  27.960254   \n",
       "\n",
       "   correlation  inverse_difference_moments   entropy  \n",
       "0     0.994066                    0.727757  4.745328  \n",
       "1     0.997869                    0.725346  4.997369  \n",
       "2     0.997531                    0.647207  6.183285  \n",
       "3     0.999238                    0.747937  5.233228  \n",
       "4     0.997040                    0.618811  6.441511  "
      ]
     },
     "execution_count": 99,
     "metadata": {},
     "output_type": "execute_result"
    }
   ],
   "source": [
    "dataset.head(5)"
   ]
  },
  {
   "cell_type": "code",
   "execution_count": 100,
   "metadata": {},
   "outputs": [
    {
     "data": {
      "text/plain": [
       "pandas.core.frame.DataFrame"
      ]
     },
     "execution_count": 100,
     "metadata": {},
     "output_type": "execute_result"
    }
   ],
   "source": [
    "type(dataset)"
   ]
  },
  {
   "cell_type": "code",
   "execution_count": 101,
   "metadata": {},
   "outputs": [],
   "source": [
    "#aindir = 'Plant-Leaf-Identification-master'\n",
    "ds_path =\"Leaves\"\n",
    "img_files = os.listdir(ds_path)"
   ]
  },
  {
   "cell_type": "markdown",
   "metadata": {},
   "source": [
    "### Creating target labels\n",
    "\n",
    "Breakpoints are used alongside the image file to create a vector of target labels. The breakpoints are specified in Flavia leaves dataset website."
   ]
  },
  {
   "cell_type": "code",
   "execution_count": 102,
   "metadata": {},
   "outputs": [],
   "source": [
    "breakpoints = [1001,1059,1060,1122,1552,1616,1123,1194,1195,1267,1268,1323,1324,1385,1386,1437,1497,1551,1438,1496,2001,2050,2051,2113,2114,2165,2166,2230,2231,2290,2291,2346,2347,2423,2424,2485,2486,2546,2547,2612,2616,2675,3001,3055,3056,3110,3111,3175,3176,3229,3230,3281,3282,3334,3335,3389,3390,3446,3447,3510,3511,3563,3566,3621]"
   ]
  },
  {
   "cell_type": "code",
   "execution_count": 103,
   "metadata": {},
   "outputs": [],
   "source": [
    "target_list = []\n",
    "for file in img_files:\n",
    "    target_num = int(file.split(\".\")[0])\n",
    "    flag = 0\n",
    "    i = 0 \n",
    "    for i in range(0,len(breakpoints),2):\n",
    "        if((target_num >= breakpoints[i]) and (target_num <= breakpoints[i+1])):\n",
    "            flag = 1\n",
    "            break\n",
    "    if(flag==1):\n",
    "        target = int((i/2))\n",
    "        target_list.append(target)"
   ]
  },
  {
   "cell_type": "code",
   "execution_count": 104,
   "metadata": {},
   "outputs": [
    {
     "data": {
      "text/plain": [
       "array([13, 25, 27, ..., 10,  8, 22])"
      ]
     },
     "execution_count": 104,
     "metadata": {},
     "output_type": "execute_result"
    }
   ],
   "source": [
    "y = np.array(target_list)\n",
    "y"
   ]
  },
  {
   "cell_type": "code",
   "execution_count": 105,
   "metadata": {},
   "outputs": [],
   "source": [
    "X = dataset.iloc[:,1:]"
   ]
  },
  {
   "cell_type": "code",
   "execution_count": 106,
   "metadata": {},
   "outputs": [
    {
     "data": {
      "text/html": [
       "<div>\n",
       "<style scoped>\n",
       "    .dataframe tbody tr th:only-of-type {\n",
       "        vertical-align: middle;\n",
       "    }\n",
       "\n",
       "    .dataframe tbody tr th {\n",
       "        vertical-align: top;\n",
       "    }\n",
       "\n",
       "    .dataframe thead th {\n",
       "        text-align: right;\n",
       "    }\n",
       "</style>\n",
       "<table border=\"1\" class=\"dataframe\">\n",
       "  <thead>\n",
       "    <tr style=\"text-align: right;\">\n",
       "      <th></th>\n",
       "      <th>area</th>\n",
       "      <th>perimeter</th>\n",
       "      <th>physiological_length</th>\n",
       "      <th>physiological_width</th>\n",
       "      <th>aspect_ratio</th>\n",
       "      <th>rectangularity</th>\n",
       "      <th>circularity</th>\n",
       "      <th>mean_r</th>\n",
       "      <th>mean_g</th>\n",
       "      <th>mean_b</th>\n",
       "      <th>stddev_r</th>\n",
       "      <th>stddev_g</th>\n",
       "      <th>stddev_b</th>\n",
       "      <th>contrast</th>\n",
       "      <th>correlation</th>\n",
       "      <th>inverse_difference_moments</th>\n",
       "      <th>entropy</th>\n",
       "    </tr>\n",
       "  </thead>\n",
       "  <tbody>\n",
       "    <tr>\n",
       "      <td>0</td>\n",
       "      <td>561342.5</td>\n",
       "      <td>3305.416635</td>\n",
       "      <td>1353</td>\n",
       "      <td>640</td>\n",
       "      <td>2.114063</td>\n",
       "      <td>1.542588</td>\n",
       "      <td>19.463659</td>\n",
       "      <td>189.181341</td>\n",
       "      <td>218.805668</td>\n",
       "      <td>179.584394</td>\n",
       "      <td>96.015825</td>\n",
       "      <td>50.316477</td>\n",
       "      <td>108.842002</td>\n",
       "      <td>58.808041</td>\n",
       "      <td>0.994066</td>\n",
       "      <td>0.727757</td>\n",
       "      <td>4.745328</td>\n",
       "    </tr>\n",
       "    <tr>\n",
       "      <td>1</td>\n",
       "      <td>607171.0</td>\n",
       "      <td>3988.447285</td>\n",
       "      <td>1466</td>\n",
       "      <td>1034</td>\n",
       "      <td>1.417795</td>\n",
       "      <td>2.496569</td>\n",
       "      <td>26.199723</td>\n",
       "      <td>15.476080</td>\n",
       "      <td>38.971083</td>\n",
       "      <td>9.930136</td>\n",
       "      <td>36.154020</td>\n",
       "      <td>60.875630</td>\n",
       "      <td>27.024367</td>\n",
       "      <td>29.127809</td>\n",
       "      <td>0.997869</td>\n",
       "      <td>0.725346</td>\n",
       "      <td>4.997369</td>\n",
       "    </tr>\n",
       "    <tr>\n",
       "      <td>2</td>\n",
       "      <td>842969.5</td>\n",
       "      <td>4278.504949</td>\n",
       "      <td>1378</td>\n",
       "      <td>843</td>\n",
       "      <td>1.634638</td>\n",
       "      <td>1.378050</td>\n",
       "      <td>21.715619</td>\n",
       "      <td>35.406194</td>\n",
       "      <td>56.211548</td>\n",
       "      <td>33.102664</td>\n",
       "      <td>45.685167</td>\n",
       "      <td>65.068653</td>\n",
       "      <td>43.953746</td>\n",
       "      <td>29.547815</td>\n",
       "      <td>0.997531</td>\n",
       "      <td>0.647207</td>\n",
       "      <td>6.183285</td>\n",
       "    </tr>\n",
       "    <tr>\n",
       "      <td>3</td>\n",
       "      <td>785547.0</td>\n",
       "      <td>4419.472546</td>\n",
       "      <td>1242</td>\n",
       "      <td>1068</td>\n",
       "      <td>1.162921</td>\n",
       "      <td>1.688576</td>\n",
       "      <td>24.863869</td>\n",
       "      <td>37.360262</td>\n",
       "      <td>77.987583</td>\n",
       "      <td>8.228920</td>\n",
       "      <td>48.897957</td>\n",
       "      <td>92.566737</td>\n",
       "      <td>27.841885</td>\n",
       "      <td>5.518959</td>\n",
       "      <td>0.999238</td>\n",
       "      <td>0.747937</td>\n",
       "      <td>5.233228</td>\n",
       "    </tr>\n",
       "    <tr>\n",
       "      <td>4</td>\n",
       "      <td>880922.5</td>\n",
       "      <td>4248.661363</td>\n",
       "      <td>1336</td>\n",
       "      <td>1007</td>\n",
       "      <td>1.326713</td>\n",
       "      <td>1.527208</td>\n",
       "      <td>20.491159</td>\n",
       "      <td>43.304093</td>\n",
       "      <td>72.965296</td>\n",
       "      <td>27.219854</td>\n",
       "      <td>53.980806</td>\n",
       "      <td>78.973875</td>\n",
       "      <td>39.895113</td>\n",
       "      <td>27.960254</td>\n",
       "      <td>0.997040</td>\n",
       "      <td>0.618811</td>\n",
       "      <td>6.441511</td>\n",
       "    </tr>\n",
       "  </tbody>\n",
       "</table>\n",
       "</div>"
      ],
      "text/plain": [
       "       area    perimeter  physiological_length  physiological_width  \\\n",
       "0  561342.5  3305.416635                  1353                  640   \n",
       "1  607171.0  3988.447285                  1466                 1034   \n",
       "2  842969.5  4278.504949                  1378                  843   \n",
       "3  785547.0  4419.472546                  1242                 1068   \n",
       "4  880922.5  4248.661363                  1336                 1007   \n",
       "\n",
       "   aspect_ratio  rectangularity  circularity      mean_r      mean_g  \\\n",
       "0      2.114063        1.542588    19.463659  189.181341  218.805668   \n",
       "1      1.417795        2.496569    26.199723   15.476080   38.971083   \n",
       "2      1.634638        1.378050    21.715619   35.406194   56.211548   \n",
       "3      1.162921        1.688576    24.863869   37.360262   77.987583   \n",
       "4      1.326713        1.527208    20.491159   43.304093   72.965296   \n",
       "\n",
       "       mean_b   stddev_r   stddev_g    stddev_b   contrast  correlation  \\\n",
       "0  179.584394  96.015825  50.316477  108.842002  58.808041     0.994066   \n",
       "1    9.930136  36.154020  60.875630   27.024367  29.127809     0.997869   \n",
       "2   33.102664  45.685167  65.068653   43.953746  29.547815     0.997531   \n",
       "3    8.228920  48.897957  92.566737   27.841885   5.518959     0.999238   \n",
       "4   27.219854  53.980806  78.973875   39.895113  27.960254     0.997040   \n",
       "\n",
       "   inverse_difference_moments   entropy  \n",
       "0                    0.727757  4.745328  \n",
       "1                    0.725346  4.997369  \n",
       "2                    0.647207  6.183285  \n",
       "3                    0.747937  5.233228  \n",
       "4                    0.618811  6.441511  "
      ]
     },
     "execution_count": 106,
     "metadata": {},
     "output_type": "execute_result"
    }
   ],
   "source": [
    "X.head(5)"
   ]
  },
  {
   "cell_type": "code",
   "execution_count": 107,
   "metadata": {},
   "outputs": [
    {
     "data": {
      "text/plain": [
       "array([13, 25, 27, 30, 27])"
      ]
     },
     "execution_count": 107,
     "metadata": {},
     "output_type": "execute_result"
    }
   ],
   "source": [
    "y[0:5]"
   ]
  },
  {
   "cell_type": "markdown",
   "metadata": {},
   "source": [
    "### Train test split"
   ]
  },
  {
   "cell_type": "code",
   "execution_count": 108,
   "metadata": {},
   "outputs": [],
   "source": [
    "from sklearn.model_selection import train_test_split"
   ]
  },
  {
   "cell_type": "code",
   "execution_count": 109,
   "metadata": {},
   "outputs": [],
   "source": [
    "X_train, X_test, y_train, y_test = train_test_split(X, y, test_size=0.3, random_state = 142)"
   ]
  },
  {
   "cell_type": "code",
   "execution_count": 110,
   "metadata": {},
   "outputs": [
    {
     "data": {
      "text/html": [
       "<div>\n",
       "<style scoped>\n",
       "    .dataframe tbody tr th:only-of-type {\n",
       "        vertical-align: middle;\n",
       "    }\n",
       "\n",
       "    .dataframe tbody tr th {\n",
       "        vertical-align: top;\n",
       "    }\n",
       "\n",
       "    .dataframe thead th {\n",
       "        text-align: right;\n",
       "    }\n",
       "</style>\n",
       "<table border=\"1\" class=\"dataframe\">\n",
       "  <thead>\n",
       "    <tr style=\"text-align: right;\">\n",
       "      <th></th>\n",
       "      <th>area</th>\n",
       "      <th>perimeter</th>\n",
       "      <th>physiological_length</th>\n",
       "      <th>physiological_width</th>\n",
       "      <th>aspect_ratio</th>\n",
       "      <th>rectangularity</th>\n",
       "      <th>circularity</th>\n",
       "      <th>mean_r</th>\n",
       "      <th>mean_g</th>\n",
       "      <th>mean_b</th>\n",
       "      <th>stddev_r</th>\n",
       "      <th>stddev_g</th>\n",
       "      <th>stddev_b</th>\n",
       "      <th>contrast</th>\n",
       "      <th>correlation</th>\n",
       "      <th>inverse_difference_moments</th>\n",
       "      <th>entropy</th>\n",
       "    </tr>\n",
       "  </thead>\n",
       "  <tbody>\n",
       "    <tr>\n",
       "      <td>147</td>\n",
       "      <td>521832.0</td>\n",
       "      <td>3421.624783</td>\n",
       "      <td>1325</td>\n",
       "      <td>750</td>\n",
       "      <td>1.766667</td>\n",
       "      <td>1.904349</td>\n",
       "      <td>22.435412</td>\n",
       "      <td>25.145989</td>\n",
       "      <td>43.483646</td>\n",
       "      <td>18.288711</td>\n",
       "      <td>43.192509</td>\n",
       "      <td>70.648708</td>\n",
       "      <td>32.760250</td>\n",
       "      <td>23.805489</td>\n",
       "      <td>0.996622</td>\n",
       "      <td>0.765862</td>\n",
       "      <td>3.903513</td>\n",
       "    </tr>\n",
       "    <tr>\n",
       "      <td>837</td>\n",
       "      <td>445611.5</td>\n",
       "      <td>3127.603372</td>\n",
       "      <td>1345</td>\n",
       "      <td>491</td>\n",
       "      <td>2.739308</td>\n",
       "      <td>1.481997</td>\n",
       "      <td>21.951639</td>\n",
       "      <td>28.813562</td>\n",
       "      <td>41.238844</td>\n",
       "      <td>24.769416</td>\n",
       "      <td>53.014815</td>\n",
       "      <td>72.667816</td>\n",
       "      <td>47.850563</td>\n",
       "      <td>4.536452</td>\n",
       "      <td>0.999111</td>\n",
       "      <td>0.832498</td>\n",
       "      <td>3.094244</td>\n",
       "    </tr>\n",
       "    <tr>\n",
       "      <td>358</td>\n",
       "      <td>273135.0</td>\n",
       "      <td>3578.839206</td>\n",
       "      <td>1360</td>\n",
       "      <td>968</td>\n",
       "      <td>1.404959</td>\n",
       "      <td>4.819888</td>\n",
       "      <td>46.892892</td>\n",
       "      <td>9.454536</td>\n",
       "      <td>18.897390</td>\n",
       "      <td>7.205166</td>\n",
       "      <td>27.927726</td>\n",
       "      <td>46.166477</td>\n",
       "      <td>25.895909</td>\n",
       "      <td>15.086292</td>\n",
       "      <td>0.997765</td>\n",
       "      <td>0.877027</td>\n",
       "      <td>2.195806</td>\n",
       "    </tr>\n",
       "    <tr>\n",
       "      <td>962</td>\n",
       "      <td>930656.5</td>\n",
       "      <td>4394.381268</td>\n",
       "      <td>1573</td>\n",
       "      <td>1101</td>\n",
       "      <td>1.428701</td>\n",
       "      <td>1.860915</td>\n",
       "      <td>20.749424</td>\n",
       "      <td>38.521936</td>\n",
       "      <td>71.400802</td>\n",
       "      <td>26.599452</td>\n",
       "      <td>42.709538</td>\n",
       "      <td>73.632868</td>\n",
       "      <td>31.900836</td>\n",
       "      <td>29.674007</td>\n",
       "      <td>0.997089</td>\n",
       "      <td>0.631512</td>\n",
       "      <td>5.890913</td>\n",
       "    </tr>\n",
       "    <tr>\n",
       "      <td>1101</td>\n",
       "      <td>57919.5</td>\n",
       "      <td>3681.625990</td>\n",
       "      <td>1460</td>\n",
       "      <td>915</td>\n",
       "      <td>1.595628</td>\n",
       "      <td>23.064771</td>\n",
       "      <td>234.020838</td>\n",
       "      <td>4.730785</td>\n",
       "      <td>6.425614</td>\n",
       "      <td>3.695089</td>\n",
       "      <td>26.800020</td>\n",
       "      <td>33.104585</td>\n",
       "      <td>24.408917</td>\n",
       "      <td>5.916679</td>\n",
       "      <td>0.995190</td>\n",
       "      <td>0.964529</td>\n",
       "      <td>0.766046</td>\n",
       "    </tr>\n",
       "  </tbody>\n",
       "</table>\n",
       "</div>"
      ],
      "text/plain": [
       "          area    perimeter  physiological_length  physiological_width  \\\n",
       "147   521832.0  3421.624783                  1325                  750   \n",
       "837   445611.5  3127.603372                  1345                  491   \n",
       "358   273135.0  3578.839206                  1360                  968   \n",
       "962   930656.5  4394.381268                  1573                 1101   \n",
       "1101   57919.5  3681.625990                  1460                  915   \n",
       "\n",
       "      aspect_ratio  rectangularity  circularity     mean_r     mean_g  \\\n",
       "147       1.766667        1.904349    22.435412  25.145989  43.483646   \n",
       "837       2.739308        1.481997    21.951639  28.813562  41.238844   \n",
       "358       1.404959        4.819888    46.892892   9.454536  18.897390   \n",
       "962       1.428701        1.860915    20.749424  38.521936  71.400802   \n",
       "1101      1.595628       23.064771   234.020838   4.730785   6.425614   \n",
       "\n",
       "         mean_b   stddev_r   stddev_g   stddev_b   contrast  correlation  \\\n",
       "147   18.288711  43.192509  70.648708  32.760250  23.805489     0.996622   \n",
       "837   24.769416  53.014815  72.667816  47.850563   4.536452     0.999111   \n",
       "358    7.205166  27.927726  46.166477  25.895909  15.086292     0.997765   \n",
       "962   26.599452  42.709538  73.632868  31.900836  29.674007     0.997089   \n",
       "1101   3.695089  26.800020  33.104585  24.408917   5.916679     0.995190   \n",
       "\n",
       "      inverse_difference_moments   entropy  \n",
       "147                     0.765862  3.903513  \n",
       "837                     0.832498  3.094244  \n",
       "358                     0.877027  2.195806  \n",
       "962                     0.631512  5.890913  \n",
       "1101                    0.964529  0.766046  "
      ]
     },
     "execution_count": 110,
     "metadata": {},
     "output_type": "execute_result"
    }
   ],
   "source": [
    "X_train.head(5)"
   ]
  },
  {
   "cell_type": "code",
   "execution_count": 111,
   "metadata": {},
   "outputs": [
    {
     "data": {
      "text/plain": [
       "array([ 8,  2,  0, 12, 16])"
      ]
     },
     "execution_count": 111,
     "metadata": {},
     "output_type": "execute_result"
    }
   ],
   "source": [
    "y_train[0:5]"
   ]
  },
  {
   "cell_type": "markdown",
   "metadata": {},
   "source": [
    "### Feature Scaling"
   ]
  },
  {
   "cell_type": "code",
   "execution_count": 112,
   "metadata": {},
   "outputs": [],
   "source": [
    "from sklearn.preprocessing import StandardScaler"
   ]
  },
  {
   "cell_type": "code",
   "execution_count": 113,
   "metadata": {},
   "outputs": [],
   "source": [
    "sc_X = StandardScaler()\n",
    "X_train = sc_X.fit_transform(X_train)\n",
    "X_test = sc_X.transform(X_test)"
   ]
  },
  {
   "cell_type": "code",
   "execution_count": 114,
   "metadata": {},
   "outputs": [
    {
     "data": {
      "text/plain": [
       "array([[-0.30112142, -0.39395126,  0.04701906, -0.54632792,  0.27024633,\n",
       "        -0.23733069, -0.26725312, -0.29907977, -0.38004552, -0.25700385,\n",
       "        -0.16845227,  0.05727142, -0.2551481 , -0.1049842 , -0.08910352,\n",
       "         0.19772908, -0.33092877],\n",
       "       [-0.58899701, -0.77815381,  0.13163751, -1.6467102 ,  1.8811622 ,\n",
       "        -0.33174965, -0.27856357, -0.20320814, -0.43016703, -0.07999576,\n",
       "         0.43151122,  0.17340198,  0.4927021 , -0.85874136,  1.12369569,\n",
       "         0.85560919, -0.82649735]])"
      ]
     },
     "execution_count": 114,
     "metadata": {},
     "output_type": "execute_result"
    }
   ],
   "source": [
    "X_train[0:2]"
   ]
  },
  {
   "cell_type": "code",
   "execution_count": 115,
   "metadata": {},
   "outputs": [
    {
     "data": {
      "text/plain": [
       "array([8, 2])"
      ]
     },
     "execution_count": 115,
     "metadata": {},
     "output_type": "execute_result"
    }
   ],
   "source": [
    "y_train[0:2]"
   ]
  },
  {
   "cell_type": "markdown",
   "metadata": {},
   "source": [
    "### Applying SVM classifier model"
   ]
  },
  {
   "cell_type": "code",
   "execution_count": 116,
   "metadata": {},
   "outputs": [],
   "source": [
    "from sklearn import svm"
   ]
  },
  {
   "cell_type": "code",
   "execution_count": 117,
   "metadata": {},
   "outputs": [
    {
     "data": {
      "text/plain": [
       "SVC(C=1.0, cache_size=200, class_weight=None, coef0=0.0,\n",
       "    decision_function_shape='ovr', degree=3, gamma='auto_deprecated',\n",
       "    kernel='rbf', max_iter=-1, probability=False, random_state=None,\n",
       "    shrinking=True, tol=0.001, verbose=False)"
      ]
     },
     "execution_count": 117,
     "metadata": {},
     "output_type": "execute_result"
    }
   ],
   "source": [
    "clf = svm.SVC()\n",
    "clf.fit(X_train,y_train)"
   ]
  },
  {
   "cell_type": "code",
   "execution_count": 118,
   "metadata": {},
   "outputs": [],
   "source": [
    "y_pred = clf.predict(X_test)"
   ]
  },
  {
   "cell_type": "code",
   "execution_count": 119,
   "metadata": {},
   "outputs": [],
   "source": [
    "from sklearn import metrics"
   ]
  },
  {
   "cell_type": "code",
   "execution_count": 120,
   "metadata": {},
   "outputs": [
    {
     "data": {
      "text/plain": [
       "0.8097731239092496"
      ]
     },
     "execution_count": 120,
     "metadata": {},
     "output_type": "execute_result"
    }
   ],
   "source": [
    "metrics.accuracy_score(y_test, y_pred)"
   ]
  },
  {
   "cell_type": "code",
   "execution_count": 121,
   "metadata": {},
   "outputs": [
    {
     "name": "stdout",
     "output_type": "stream",
     "text": [
      "              precision    recall  f1-score   support\n",
      "\n",
      "           0       0.44      0.64      0.52        11\n",
      "           1       0.88      0.88      0.88        25\n",
      "           2       0.90      0.95      0.92        19\n",
      "           3       0.79      1.00      0.88        23\n",
      "           4       0.94      1.00      0.97        16\n",
      "           5       0.91      1.00      0.95        20\n",
      "           6       0.65      0.87      0.74        15\n",
      "           7       0.92      0.88      0.90        25\n",
      "           8       0.63      0.71      0.67        17\n",
      "           9       1.00      0.94      0.97        16\n",
      "          10       0.53      0.62      0.57        16\n",
      "          11       0.82      0.82      0.82        17\n",
      "          12       0.55      0.73      0.63        15\n",
      "          13       1.00      0.73      0.84        26\n",
      "          14       0.73      0.40      0.52        20\n",
      "          15       0.60      0.38      0.46        16\n",
      "          16       1.00      1.00      1.00        26\n",
      "          17       0.94      1.00      0.97        16\n",
      "          18       0.94      0.80      0.86        20\n",
      "          19       1.00      0.92      0.96        25\n",
      "          20       0.87      0.72      0.79        18\n",
      "          21       0.73      0.62      0.67        13\n",
      "          22       1.00      0.93      0.96        14\n",
      "          23       0.73      1.00      0.84        16\n",
      "          24       1.00      0.59      0.74        17\n",
      "          25       0.73      0.65      0.69        17\n",
      "          26       0.85      1.00      0.92        11\n",
      "          27       0.70      1.00      0.82        14\n",
      "          28       0.50      0.78      0.61        18\n",
      "          29       0.88      0.83      0.86        18\n",
      "          30       1.00      0.47      0.64        15\n",
      "          31       0.94      0.83      0.88        18\n",
      "\n",
      "    accuracy                           0.81       573\n",
      "   macro avg       0.82      0.80      0.80       573\n",
      "weighted avg       0.83      0.81      0.81       573\n",
      "\n"
     ]
    }
   ],
   "source": [
    "print(metrics.classification_report(y_test, y_pred))"
   ]
  },
  {
   "cell_type": "markdown",
   "metadata": {},
   "source": [
    "### Performing parameter tuning of the model"
   ]
  },
  {
   "cell_type": "code",
   "execution_count": 122,
   "metadata": {},
   "outputs": [],
   "source": [
    "from sklearn.model_selection import GridSearchCV"
   ]
  },
  {
   "cell_type": "code",
   "execution_count": 123,
   "metadata": {},
   "outputs": [],
   "source": [
    "parameters = [{'kernel': ['rbf'],\n",
    "               'gamma': [1e-4, 1e-3, 0.01, 0.1, 0.2, 0.5],\n",
    "               'C': [1, 10, 100, 1000]},\n",
    "              {'kernel': ['linear'], 'C': [1, 10, 100, 1000]}\n",
    "             ]"
   ]
  },
  {
   "cell_type": "code",
   "execution_count": 124,
   "metadata": {},
   "outputs": [
    {
     "name": "stderr",
     "output_type": "stream",
     "text": [
      "/home/ritvik/.local/lib/python3.6/site-packages/sklearn/model_selection/_search.py:814: DeprecationWarning: The default of the `iid` parameter will change from True to False in version 0.22 and will be removed in 0.24. This will change numeric results when test-set sizes are unequal.\n",
      "  DeprecationWarning)\n"
     ]
    },
    {
     "data": {
      "text/plain": [
       "GridSearchCV(cv=5, error_score='raise-deprecating',\n",
       "             estimator=SVC(C=1.0, cache_size=200, class_weight=None, coef0=0.0,\n",
       "                           decision_function_shape='ovr', degree=3,\n",
       "                           gamma='auto_deprecated', kernel='rbf', max_iter=-1,\n",
       "                           probability=False, random_state=None, shrinking=True,\n",
       "                           tol=0.001, verbose=False),\n",
       "             iid='warn', n_jobs=None,\n",
       "             param_grid=[{'C': [1, 10, 100, 1000],\n",
       "                          'gamma': [0.0001, 0.001, 0.01, 0.1, 0.2, 0.5],\n",
       "                          'kernel': ['rbf']},\n",
       "                         {'C': [1, 10, 100, 1000], 'kernel': ['linear']}],\n",
       "             pre_dispatch='2*n_jobs', refit=True, return_train_score=False,\n",
       "             scoring=None, verbose=0)"
      ]
     },
     "execution_count": 124,
     "metadata": {},
     "output_type": "execute_result"
    }
   ],
   "source": [
    "svm_clf = GridSearchCV(svm.SVC(decision_function_shape='ovr'), parameters, cv=5)\n",
    "svm_clf.fit(X_train, y_train)"
   ]
  },
  {
   "cell_type": "code",
   "execution_count": 125,
   "metadata": {},
   "outputs": [
    {
     "data": {
      "text/plain": [
       "{'C': 1000, 'gamma': 0.01, 'kernel': 'rbf'}"
      ]
     },
     "execution_count": 125,
     "metadata": {},
     "output_type": "execute_result"
    }
   ],
   "source": [
    "svm_clf.best_params_"
   ]
  },
  {
   "cell_type": "code",
   "execution_count": 126,
   "metadata": {},
   "outputs": [
    {
     "name": "stdout",
     "output_type": "stream",
     "text": [
      "0.043 (+/-0.002) for {'C': 1, 'gamma': 0.0001, 'kernel': 'rbf'}\n",
      "0.187 (+/-0.019) for {'C': 1, 'gamma': 0.001, 'kernel': 'rbf'}\n",
      "0.600 (+/-0.026) for {'C': 1, 'gamma': 0.01, 'kernel': 'rbf'}\n",
      "0.824 (+/-0.046) for {'C': 1, 'gamma': 0.1, 'kernel': 'rbf'}\n",
      "0.852 (+/-0.037) for {'C': 1, 'gamma': 0.2, 'kernel': 'rbf'}\n",
      "0.846 (+/-0.046) for {'C': 1, 'gamma': 0.5, 'kernel': 'rbf'}\n",
      "0.190 (+/-0.014) for {'C': 10, 'gamma': 0.0001, 'kernel': 'rbf'}\n",
      "0.601 (+/-0.032) for {'C': 10, 'gamma': 0.001, 'kernel': 'rbf'}\n",
      "0.828 (+/-0.034) for {'C': 10, 'gamma': 0.01, 'kernel': 'rbf'}\n",
      "0.884 (+/-0.058) for {'C': 10, 'gamma': 0.1, 'kernel': 'rbf'}\n",
      "0.876 (+/-0.055) for {'C': 10, 'gamma': 0.2, 'kernel': 'rbf'}\n",
      "0.861 (+/-0.042) for {'C': 10, 'gamma': 0.5, 'kernel': 'rbf'}\n",
      "0.601 (+/-0.032) for {'C': 100, 'gamma': 0.0001, 'kernel': 'rbf'}\n",
      "0.817 (+/-0.028) for {'C': 100, 'gamma': 0.001, 'kernel': 'rbf'}\n",
      "0.888 (+/-0.025) for {'C': 100, 'gamma': 0.01, 'kernel': 'rbf'}\n",
      "0.887 (+/-0.052) for {'C': 100, 'gamma': 0.1, 'kernel': 'rbf'}\n",
      "0.875 (+/-0.047) for {'C': 100, 'gamma': 0.2, 'kernel': 'rbf'}\n",
      "0.858 (+/-0.046) for {'C': 100, 'gamma': 0.5, 'kernel': 'rbf'}\n",
      "0.813 (+/-0.033) for {'C': 1000, 'gamma': 0.0001, 'kernel': 'rbf'}\n",
      "0.885 (+/-0.036) for {'C': 1000, 'gamma': 0.001, 'kernel': 'rbf'}\n",
      "0.893 (+/-0.025) for {'C': 1000, 'gamma': 0.01, 'kernel': 'rbf'}\n",
      "0.882 (+/-0.045) for {'C': 1000, 'gamma': 0.1, 'kernel': 'rbf'}\n",
      "0.874 (+/-0.049) for {'C': 1000, 'gamma': 0.2, 'kernel': 'rbf'}\n",
      "0.858 (+/-0.046) for {'C': 1000, 'gamma': 0.5, 'kernel': 'rbf'}\n",
      "0.869 (+/-0.052) for {'C': 1, 'kernel': 'linear'}\n",
      "0.881 (+/-0.031) for {'C': 10, 'kernel': 'linear'}\n",
      "0.891 (+/-0.035) for {'C': 100, 'kernel': 'linear'}\n",
      "0.891 (+/-0.036) for {'C': 1000, 'kernel': 'linear'}\n"
     ]
    }
   ],
   "source": [
    "means = svm_clf.cv_results_['mean_test_score']\n",
    "stds = svm_clf.cv_results_['std_test_score']\n",
    "for mean, std, params in zip(means, stds, svm_clf.cv_results_['params']):\n",
    "    print(\"%0.3f (+/-%0.03f) for %r\" % (mean, std * 2, params))"
   ]
  },
  {
   "cell_type": "code",
   "execution_count": 127,
   "metadata": {},
   "outputs": [],
   "source": [
    "y_pred_svm = svm_clf.predict(X_test)"
   ]
  },
  {
   "cell_type": "code",
   "execution_count": 128,
   "metadata": {},
   "outputs": [
    {
     "data": {
      "text/plain": [
       "0.8900523560209425"
      ]
     },
     "execution_count": 128,
     "metadata": {},
     "output_type": "execute_result"
    }
   ],
   "source": [
    "metrics.accuracy_score(y_test, y_pred_svm)"
   ]
  },
  {
   "cell_type": "code",
   "execution_count": 129,
   "metadata": {},
   "outputs": [
    {
     "name": "stdout",
     "output_type": "stream",
     "text": [
      "              precision    recall  f1-score   support\n",
      "\n",
      "           0       0.44      0.73      0.55        11\n",
      "           1       0.88      0.88      0.88        25\n",
      "           2       0.89      0.89      0.89        19\n",
      "           3       1.00      1.00      1.00        23\n",
      "           4       1.00      1.00      1.00        16\n",
      "           5       0.95      1.00      0.98        20\n",
      "           6       0.74      0.93      0.82        15\n",
      "           7       0.89      1.00      0.94        25\n",
      "           8       0.74      0.82      0.78        17\n",
      "           9       1.00      1.00      1.00        16\n",
      "          10       0.79      0.94      0.86        16\n",
      "          11       0.76      0.94      0.84        17\n",
      "          12       0.92      0.80      0.86        15\n",
      "          13       0.95      0.77      0.85        26\n",
      "          14       0.75      0.90      0.82        20\n",
      "          15       0.81      0.81      0.81        16\n",
      "          16       1.00      1.00      1.00        26\n",
      "          17       0.94      1.00      0.97        16\n",
      "          18       1.00      0.90      0.95        20\n",
      "          19       0.96      0.88      0.92        25\n",
      "          20       0.92      0.67      0.77        18\n",
      "          21       0.92      0.92      0.92        13\n",
      "          22       1.00      1.00      1.00        14\n",
      "          23       0.93      0.88      0.90        16\n",
      "          24       0.87      0.76      0.81        17\n",
      "          25       0.93      0.76      0.84        17\n",
      "          26       0.90      0.82      0.86        11\n",
      "          27       0.93      1.00      0.97        14\n",
      "          28       0.88      0.83      0.86        18\n",
      "          29       0.89      0.89      0.89        18\n",
      "          30       1.00      0.80      0.89        15\n",
      "          31       1.00      0.83      0.91        18\n",
      "\n",
      "    accuracy                           0.89       573\n",
      "   macro avg       0.89      0.89      0.89       573\n",
      "weighted avg       0.90      0.89      0.89       573\n",
      "\n"
     ]
    }
   ],
   "source": [
    "print(metrics.classification_report(y_test, y_pred_svm))"
   ]
  },
  {
   "cell_type": "markdown",
   "metadata": {},
   "source": [
    "### Dimensionality Reduction using PCA"
   ]
  },
  {
   "cell_type": "code",
   "execution_count": 130,
   "metadata": {},
   "outputs": [],
   "source": [
    "from sklearn.decomposition import PCA"
   ]
  },
  {
   "cell_type": "code",
   "execution_count": 131,
   "metadata": {},
   "outputs": [],
   "source": [
    "pca = PCA()"
   ]
  },
  {
   "cell_type": "code",
   "execution_count": 132,
   "metadata": {},
   "outputs": [
    {
     "data": {
      "text/plain": [
       "PCA(copy=True, iterated_power='auto', n_components=None, random_state=None,\n",
       "    svd_solver='auto', tol=0.0, whiten=False)"
      ]
     },
     "execution_count": 132,
     "metadata": {},
     "output_type": "execute_result"
    }
   ],
   "source": [
    "pca.fit(X)"
   ]
  },
  {
   "cell_type": "code",
   "execution_count": 133,
   "metadata": {},
   "outputs": [
    {
     "data": {
      "text/plain": [
       "array([9.99992897e-01, 6.41437088e-06, 3.92824605e-07, 2.08042079e-07,\n",
       "       6.15524137e-08, 1.38782130e-08, 8.94941027e-09, 2.51985112e-09,\n",
       "       8.66427495e-10, 2.10140472e-10, 1.07067483e-10, 1.32409779e-11,\n",
       "       2.22566009e-12, 1.41983634e-12, 5.16455582e-13, 3.39148727e-15,\n",
       "       1.00670612e-17])"
      ]
     },
     "execution_count": 133,
     "metadata": {},
     "output_type": "execute_result"
    }
   ],
   "source": [
    "var= pca.explained_variance_ratio_\n",
    "var"
   ]
  },
  {
   "cell_type": "code",
   "execution_count": 134,
   "metadata": {},
   "outputs": [],
   "source": [
    "import matplotlib.pyplot as plt\n",
    "%matplotlib inline"
   ]
  },
  {
   "cell_type": "code",
   "execution_count": 135,
   "metadata": {},
   "outputs": [
    {
     "data": {
      "text/plain": [
       "[<matplotlib.lines.Line2D at 0x7f8fa7f49ba8>]"
      ]
     },
     "execution_count": 135,
     "metadata": {},
     "output_type": "execute_result"
    },
    {
     "data": {
      "image/png": "[encoded data removed]",
      "text/plain": [
       "<Figure size 432x288 with 1 Axes>"
      ]
     },
     "metadata": {
      "needs_background": "light"
     },
     "output_type": "display_data"
    }
   ],
   "source": [
    "var1=np.cumsum(np.round(pca.explained_variance_ratio_, decimals=4)*100)\n",
    "plt.plot(var1)"
   ]
  },
  {
   "cell_type": "markdown",
   "metadata": {
    "collapsed": true
   },
   "source": [
    "### Testing with mobile captured leaves which are not classified"
   ]
  },
  {
   "cell_type": "code",
   "execution_count": 136,
   "metadata": {},
   "outputs": [],
   "source": [
    "import os\n",
    "import cv2"
   ]
  },
  {
   "cell_type": "code",
   "execution_count": 137,
   "metadata": {},
   "outputs": [],
   "source": [
    "def bg_sub(filename):\n",
    "    #test_img_path = '..\\\\mobile captures\\\\' + filename\n",
    "    test_img_path = filename\n",
    "    main_img = cv2.imread(test_img_path)\n",
    "    img = cv2.cvtColor(main_img, cv2.COLOR_BGR2RGB)\n",
    "    resized_image = cv2.resize(img, (1600, 1200))\n",
    "    size_y,size_x,_ = img.shape\n",
    "    gs = cv2.cvtColor(resized_image,cv2.COLOR_RGB2GRAY)\n",
    "    blur = cv2.GaussianBlur(gs, (55,55),0)\n",
    "    ret_otsu,im_bw_otsu = cv2.threshold(blur,0,255,cv2.THRESH_BINARY_INV+cv2.THRESH_OTSU)\n",
    "    kernel = np.ones((50,50),np.uint8)\n",
    "    closing = cv2.morphologyEx(im_bw_otsu, cv2.MORPH_CLOSE, kernel)\n",
    "    \n",
    "    ret_image, contours, hierarchy = cv2.findContours(closing,cv2.RETR_TREE,cv2.CHAIN_APPROX_SIMPLE)\n",
    "    \n",
    "    contains = []\n",
    "    y_ri,x_ri, _ = resized_image.shape\n",
    "    for cc in contours:\n",
    "        yn = cv2.pointPolygonTest(cc,(x_ri//2,y_ri//2),False)\n",
    "        contains.append(yn)\n",
    "\n",
    "    val = [contains.index(temp) for temp in contains if temp>0]\n",
    "    index = val[0]\n",
    "    \n",
    "    black_img = np.empty([1200,1600,3],dtype=np.uint8)\n",
    "    black_img.fill(0)\n",
    "    \n",
    "    cnt = contours[index]\n",
    "    mask = cv2.drawContours(black_img, [cnt] , 0, (255,255,255), -1)\n",
    "    \n",
    "    maskedImg = cv2.bitwise_and(resized_image, mask)\n",
    "    white_pix = [255,255,255]\n",
    "    black_pix = [0,0,0]\n",
    "    \n",
    "    final_img = maskedImg\n",
    "    h,w,channels = final_img.shape\n",
    "    for x in range(0,w):\n",
    "        for y in range(0,h):\n",
    "            channels_xy = final_img[y,x]\n",
    "            if all(channels_xy == black_pix):\n",
    "                final_img[y,x] = white_pix\n",
    "    \n",
    "    return final_img"
   ]
  },
  {
   "cell_type": "code",
   "execution_count": 138,
   "metadata": {},
   "outputs": [],
   "source": [
    "# filename = 'mobile_test.png' \n",
    "filename = '1056.jpg'\n",
    "bg_rem_img = bg_sub(filename)"
   ]
  },
  {
   "cell_type": "code",
   "execution_count": 139,
   "metadata": {},
   "outputs": [
    {
     "data": {
      "text/plain": [
       "<matplotlib.image.AxesImage at 0x7f8fa7f0b748>"
      ]
     },
     "execution_count": 139,
     "metadata": {},
     "output_type": "execute_result"
    },
    {
     "data": {
      "image/png": "[encoded data removed]",
      "text/plain": [
       "<Figure size 432x288 with 1 Axes>"
      ]
     },
     "metadata": {
      "needs_background": "light"
     },
     "output_type": "display_data"
    }
   ],
   "source": [
    "plt.imshow(bg_rem_img)"
   ]
  },
  {
   "cell_type": "code",
   "execution_count": 140,
   "metadata": {},
   "outputs": [],
   "source": [
    "import mahotas as mt"
   ]
  },
  {
   "cell_type": "code",
   "execution_count": 141,
   "metadata": {},
   "outputs": [],
   "source": [
    "def feature_extract(img):\n",
    "    names = ['area','perimeter','pysiological_length','pysiological_width','aspect_ratio','rectangularity','circularity', \\\n",
    "             'mean_r','mean_g','mean_b','stddev_r','stddev_g','stddev_b', \\\n",
    "             'contrast','correlation','inverse_difference_moments','entropy'\n",
    "            ]\n",
    "    df = pd.DataFrame([], columns=names)\n",
    "\n",
    "    #Preprocessing\n",
    "    gs = cv2.cvtColor(img,cv2.COLOR_RGB2GRAY)\n",
    "    blur = cv2.GaussianBlur(gs, (25,25),0)\n",
    "    ret_otsu,im_bw_otsu = cv2.threshold(blur,0,255,cv2.THRESH_BINARY_INV+cv2.THRESH_OTSU)\n",
    "    kernel = np.ones((50,50),np.uint8)\n",
    "    closing = cv2.morphologyEx(im_bw_otsu, cv2.MORPH_CLOSE, kernel)\n",
    "\n",
    "    #Shape features\n",
    "    image, contours, _ = cv2.findContours(closing,cv2.RETR_TREE,cv2.CHAIN_APPROX_SIMPLE)\n",
    "    cnt = contours[0]\n",
    "    M = cv2.moments(cnt)\n",
    "    area = cv2.contourArea(cnt)\n",
    "    perimeter = cv2.arcLength(cnt,True)\n",
    "    x,y,w,h = cv2.boundingRect(cnt)\n",
    "    aspect_ratio = float(w)/h\n",
    "    rectangularity = w*h/area\n",
    "    circularity = ((perimeter)**2)/area\n",
    "\n",
    "    #Color features\n",
    "    red_channel = img[:,:,0]\n",
    "    green_channel = img[:,:,1]\n",
    "    blue_channel = img[:,:,2]\n",
    "    blue_channel[blue_channel == 255] = 0\n",
    "    green_channel[green_channel == 255] = 0\n",
    "    red_channel[red_channel == 255] = 0\n",
    "\n",
    "    red_mean = np.mean(red_channel)\n",
    "    green_mean = np.mean(green_channel)\n",
    "    blue_mean = np.mean(blue_channel)\n",
    "\n",
    "    red_std = np.std(red_channel)\n",
    "    green_std = np.std(green_channel)\n",
    "    blue_std = np.std(blue_channel)\n",
    "\n",
    "    #Texture features\n",
    "    textures = mt.features.haralick(gs)\n",
    "    ht_mean = textures.mean(axis=0)\n",
    "    contrast = ht_mean[1]\n",
    "    correlation = ht_mean[2]\n",
    "    inverse_diff_moments = ht_mean[4]\n",
    "    entropy = ht_mean[8]\n",
    "\n",
    "    vector = [area,perimeter,w,h,aspect_ratio,rectangularity,circularity,\\\n",
    "              red_mean,green_mean,blue_mean,red_std,green_std,blue_std,\\\n",
    "              contrast,correlation,inverse_diff_moments,entropy\n",
    "             ]\n",
    "\n",
    "    df_temp = pd.DataFrame([vector],columns=names)\n",
    "    df = df.append(df_temp)\n",
    "    \n",
    "    return df"
   ]
  },
  {
   "cell_type": "code",
   "execution_count": 142,
   "metadata": {},
   "outputs": [
    {
     "data": {
      "text/html": [
       "<div>\n",
       "<style scoped>\n",
       "    .dataframe tbody tr th:only-of-type {\n",
       "        vertical-align: middle;\n",
       "    }\n",
       "\n",
       "    .dataframe tbody tr th {\n",
       "        vertical-align: top;\n",
       "    }\n",
       "\n",
       "    .dataframe thead th {\n",
       "        text-align: right;\n",
       "    }\n",
       "</style>\n",
       "<table border=\"1\" class=\"dataframe\">\n",
       "  <thead>\n",
       "    <tr style=\"text-align: right;\">\n",
       "      <th></th>\n",
       "      <th>area</th>\n",
       "      <th>perimeter</th>\n",
       "      <th>pysiological_length</th>\n",
       "      <th>pysiological_width</th>\n",
       "      <th>aspect_ratio</th>\n",
       "      <th>rectangularity</th>\n",
       "      <th>circularity</th>\n",
       "      <th>mean_r</th>\n",
       "      <th>mean_g</th>\n",
       "      <th>mean_b</th>\n",
       "      <th>stddev_r</th>\n",
       "      <th>stddev_g</th>\n",
       "      <th>stddev_b</th>\n",
       "      <th>contrast</th>\n",
       "      <th>correlation</th>\n",
       "      <th>inverse_difference_moments</th>\n",
       "      <th>entropy</th>\n",
       "    </tr>\n",
       "  </thead>\n",
       "  <tbody>\n",
       "    <tr>\n",
       "      <td>0</td>\n",
       "      <td>295733.0</td>\n",
       "      <td>3490.059563</td>\n",
       "      <td>1226</td>\n",
       "      <td>1091</td>\n",
       "      <td>1.12374</td>\n",
       "      <td>4.522884</td>\n",
       "      <td>41.187543</td>\n",
       "      <td>19.822591</td>\n",
       "      <td>22.401918</td>\n",
       "      <td>15.200409</td>\n",
       "      <td>46.153154</td>\n",
       "      <td>51.874727</td>\n",
       "      <td>35.853513</td>\n",
       "      <td>6.61005</td>\n",
       "      <td>0.99845</td>\n",
       "      <td>0.921209</td>\n",
       "      <td>2.048229</td>\n",
       "    </tr>\n",
       "  </tbody>\n",
       "</table>\n",
       "</div>"
      ],
      "text/plain": [
       "       area    perimeter pysiological_length pysiological_width  aspect_ratio  \\\n",
       "0  295733.0  3490.059563                1226               1091       1.12374   \n",
       "\n",
       "   rectangularity  circularity     mean_r     mean_g     mean_b   stddev_r  \\\n",
       "0        4.522884    41.187543  19.822591  22.401918  15.200409  46.153154   \n",
       "\n",
       "    stddev_g   stddev_b  contrast  correlation  inverse_difference_moments  \\\n",
       "0  51.874727  35.853513   6.61005      0.99845                    0.921209   \n",
       "\n",
       "    entropy  \n",
       "0  2.048229  "
      ]
     },
     "execution_count": 142,
     "metadata": {},
     "output_type": "execute_result"
    }
   ],
   "source": [
    "features_of_img = feature_extract(bg_rem_img)\n",
    "features_of_img"
   ]
  },
  {
   "cell_type": "code",
   "execution_count": 143,
   "metadata": {},
   "outputs": [
    {
     "name": "stdout",
     "output_type": "stream",
     "text": [
      "[[-1.15506993 -0.30452643 -0.37184226  0.90243793 -0.79458788  0.34805726\n",
      "   0.17116506 -0.43823522 -0.85075424 -0.34135494  0.01238909 -1.02252841\n",
      "  -0.10185125 -0.77762735  0.80192887  1.73143426 -1.46704134]]\n"
     ]
    },
    {
     "data": {
      "text/plain": [
       "20"
      ]
     },
     "execution_count": 143,
     "metadata": {},
     "output_type": "execute_result"
    }
   ],
   "source": [
    "scaled_features = sc_X.transform(features_of_img)\n",
    "print(scaled_features)\n",
    "# y_pred_mobile = svm_clf.predict(features_of_img)\n",
    "y_pred_mobile = svm_clf.predict(scaled_features)\n",
    "y_pred_mobile[0]"
   ]
  },
  {
   "cell_type": "code",
   "execution_count": 144,
   "metadata": {},
   "outputs": [
    {
     "data": {
      "text/plain": [
       "'Bambusoideae'"
      ]
     },
     "execution_count": 144,
     "metadata": {},
     "output_type": "execute_result"
    }
   ],
   "source": [
    "common_names = ['pubescent bamboo','Chinese horse chestnut','Anhui Barberry', \\\n",
    "                'Chinese redbud','true indigo','Japanese maple','Nanmu',' castor aralia', \\\n",
    "                'Chinese cinnamon','goldenrain tree','Big-fruited Holly','Japanese cheesewood', \\\n",
    "                'wintersweet','camphortree','Japan Arrowwood','sweet osmanthus','deodar','ginkgo, maidenhair tree', \\\n",
    "                'Crape myrtle, Crepe myrtle','oleander','Bambusoideae','Japanese Flowering Cherry','Glossy Privet',\\\n",
    "                'Chinese Toon','peach','Ford Woodlotus','trident maple','Beales barberry','southern magnolia',\\\n",
    "                'Canadian poplar','Chinese tulip tree','tangerine'\n",
    "               ]\n",
    "common_names[y_pred_mobile[0]]"
   ]
  },
  {
   "cell_type": "code",
   "execution_count": null,
   "metadata": {},
   "outputs": [],
   "source": []
  },
  {
   "cell_type": "code",
   "execution_count": null,
   "metadata": {},
   "outputs": [],
   "source": []
  }
 ],
 "metadata": {
  "kernelspec": {
   "display_name": "Python 3",
   "language": "python",
   "name": "python3"
  },
  "language_info": {
   "codemirror_mode": {
    "name": "ipython",
    "version": 3
   },
   "file_extension": ".py",
   "mimetype": "text/x-python",
   "name": "python",
   "nbconvert_exporter": "python",
   "pygments_lexer": "ipython3",
   "version": "3.6.8"
  }
 },
 "nbformat": 4,
 "nbformat_minor": 2
}
